{
 "cells": [
  {
   "cell_type": "markdown",
   "metadata": {},
   "source": [
    "## Detection of cracks on RC structures using CNN  \n",
    "\n",
    "Given *images of concrete surfaces* tey to detect **cracks** in the concrete.\n",
    "\n",
    "We will use a TensorFlow CNN to make our predictions."
   ]
  },
  {
   "cell_type": "code",
   "execution_count": 1,
   "metadata": {
    "execution": {
     "iopub.execute_input": "2022-09-10T02:37:45.416552Z",
     "iopub.status.busy": "2022-09-10T02:37:45.416174Z",
     "iopub.status.idle": "2022-09-10T02:37:53.212683Z",
     "shell.execute_reply": "2022-09-10T02:37:53.211864Z",
     "shell.execute_reply.started": "2022-09-10T02:37:45.416472Z"
    }
   },
   "outputs": [],
   "source": [
    "import numpy as np   #for working with data\n",
    "import pandas as pd\n",
    "\n",
    "import matplotlib.pyplot as plt   #for visualization purpose\n",
    "import seaborn as sns\n",
    "import plotly.express as px\n",
    "\n",
    "from pathlib import Path    #for preprocessing\n",
    "from sklearn.model_selection import train_test_split\n",
    "\n",
    "import tensorflow as tf   #running model with tensorflow\n",
    "\n",
    "from sklearn.metrics import confusion_matrix, classification_report   #for evaluating performance of model"
   ]
  },
  {
   "cell_type": "code",
   "execution_count": 2,
   "metadata": {
    "execution": {
     "iopub.execute_input": "2022-09-10T02:39:03.568908Z",
     "iopub.status.busy": "2022-09-10T02:39:03.568568Z",
     "iopub.status.idle": "2022-09-10T02:39:03.578894Z",
     "shell.execute_reply": "2022-09-10T02:39:03.577622Z",
     "shell.execute_reply.started": "2022-09-10T02:39:03.568876Z"
    }
   },
   "outputs": [],
   "source": [
    "positive_dir = Path('../input/surface-crack-detection/Positive')\n",
    "negative_dir = Path('../input/surface-crack-detection/Negative')"
   ]
  },
  {
   "cell_type": "code",
   "execution_count": 3,
   "metadata": {
    "execution": {
     "iopub.execute_input": "2022-09-10T02:39:12.040126Z",
     "iopub.status.busy": "2022-09-10T02:39:12.039781Z",
     "iopub.status.idle": "2022-09-10T02:39:12.047360Z",
     "shell.execute_reply": "2022-09-10T02:39:12.046413Z",
     "shell.execute_reply.started": "2022-09-10T02:39:12.040094Z"
    }
   },
   "outputs": [],
   "source": [
    "positive_dir.glob(r'*.jpg')"
   ]
  },
  {
   "cell_type": "markdown",
   "metadata": {},
   "source": [
    "# Creating DataFrames"
   ]
  },
  {
   "cell_type": "code",
   "execution_count": 4,
   "metadata": {
    "execution": {
     "iopub.execute_input": "2022-09-10T02:39:16.061493Z",
     "iopub.status.busy": "2022-09-10T02:39:16.061167Z",
     "iopub.status.idle": "2022-09-10T02:39:16.066698Z",
     "shell.execute_reply": "2022-09-10T02:39:16.065723Z",
     "shell.execute_reply.started": "2022-09-10T02:39:16.061463Z"
    }
   },
   "outputs": [],
   "source": [
    "#flow from dataframe method used to generate dataframe here\n",
    "def generate_df(image_dir, label):\n",
    "    filepaths = pd.Series(list(image_dir.glob(r'*.jpg')), name='Filepath').astype(str)\n",
    "    labels = pd.Series(label, name='Label', index=filepaths.index)\n",
    "    df = pd.concat([filepaths, labels], axis=1)\n",
    "    return df"
   ]
  },
  {
   "cell_type": "code",
   "execution_count": 5,
   "metadata": {
    "execution": {
     "iopub.execute_input": "2022-09-10T02:39:20.910344Z",
     "iopub.status.busy": "2022-09-10T02:39:20.910018Z",
     "iopub.status.idle": "2022-09-10T02:39:21.705790Z",
     "shell.execute_reply": "2022-09-10T02:39:21.704847Z",
     "shell.execute_reply.started": "2022-09-10T02:39:20.910314Z"
    }
   },
   "outputs": [],
   "source": [
    "generate_df(negative_dir,label=1)"
   ]
  },
  {
   "cell_type": "code",
   "execution_count": 6,
   "metadata": {
    "execution": {
     "iopub.execute_input": "2022-09-10T02:39:26.403833Z",
     "iopub.status.busy": "2022-09-10T02:39:26.403507Z",
     "iopub.status.idle": "2022-09-10T02:39:27.401855Z",
     "shell.execute_reply": "2022-09-10T02:39:27.400940Z",
     "shell.execute_reply.started": "2022-09-10T02:39:26.403802Z"
    }
   },
   "outputs": [],
   "source": [
    "#Labelling the dataset \n",
    "positive_df = generate_df(positive_dir, label=\"POSITIVE\")\n",
    "negative_df = generate_df(negative_dir, label=\"NEGATIVE\")\n",
    "#Shuffleing the examples and concatenating positive and negative dataframes\n",
    "all_df = pd.concat([positive_df, negative_df], axis=0).sample(frac=1.0, random_state=1).reset_index(drop=True)\n",
    "all_df"
   ]
  },
  {
   "cell_type": "code",
   "execution_count": 7,
   "metadata": {
    "execution": {
     "iopub.execute_input": "2022-09-10T02:39:32.423302Z",
     "iopub.status.busy": "2022-09-10T02:39:32.422949Z",
     "iopub.status.idle": "2022-09-10T02:39:32.435101Z",
     "shell.execute_reply": "2022-09-10T02:39:32.434296Z",
     "shell.execute_reply.started": "2022-09-10T02:39:32.423271Z"
    }
   },
   "outputs": [],
   "source": [
    "#spliting data amoung train and test data taking only 6000 labelled examples to train \n",
    "train_df, test_df = train_test_split(\n",
    "    all_df.sample(6000, random_state=1),\n",
    "    train_size=0.7,    #70% data used for train set and other 30% used for test set\n",
    "    shuffle=True,\n",
    "    random_state=1\n",
    ")"
   ]
  },
  {
   "cell_type": "code",
   "execution_count": 8,
   "metadata": {
    "execution": {
     "iopub.execute_input": "2022-09-10T02:39:38.284482Z",
     "iopub.status.busy": "2022-09-10T02:39:38.284163Z",
     "iopub.status.idle": "2022-09-10T02:39:38.295882Z",
     "shell.execute_reply": "2022-09-10T02:39:38.294743Z",
     "shell.execute_reply.started": "2022-09-10T02:39:38.284452Z"
    }
   },
   "outputs": [],
   "source": [
    "train_df"
   ]
  },
  {
   "cell_type": "code",
   "execution_count": 9,
   "metadata": {
    "execution": {
     "iopub.execute_input": "2022-09-10T02:39:42.390575Z",
     "iopub.status.busy": "2022-09-10T02:39:42.390251Z",
     "iopub.status.idle": "2022-09-10T02:39:42.402670Z",
     "shell.execute_reply": "2022-09-10T02:39:42.400803Z",
     "shell.execute_reply.started": "2022-09-10T02:39:42.390546Z"
    }
   },
   "outputs": [],
   "source": [
    "test_df"
   ]
  },
  {
   "cell_type": "code",
   "execution_count": null,
   "metadata": {},
   "outputs": [],
   "source": []
  },
  {
   "cell_type": "markdown",
   "metadata": {},
   "source": [
    "# Loading Image Data"
   ]
  },
  {
   "cell_type": "code",
   "execution_count": 10,
   "metadata": {
    "execution": {
     "iopub.execute_input": "2022-09-10T02:39:51.947868Z",
     "iopub.status.busy": "2022-09-10T02:39:51.947541Z",
     "iopub.status.idle": "2022-09-10T02:39:51.953011Z",
     "shell.execute_reply": "2022-09-10T02:39:51.951746Z",
     "shell.execute_reply.started": "2022-09-10T02:39:51.947837Z"
    }
   },
   "outputs": [],
   "source": [
    "#data augmentation\n",
    "#these two objects help to workout memory issues,they load images, train on them and recyle the memory\n",
    "train_gen = tf.keras.preprocessing.image.ImageDataGenerator(\n",
    "    rescale=1./255,    #making pixel values in the range of 0 and 1\n",
    "    validation_split=0.2    #making validation split\n",
    ")\n",
    "test_gen = tf.keras.preprocessing.image.ImageDataGenerator(\n",
    "    rescale=1./255\n",
    ")"
   ]
  },
  {
   "cell_type": "code",
   "execution_count": 11,
   "metadata": {
    "execution": {
     "iopub.execute_input": "2022-09-10T02:39:56.107775Z",
     "iopub.status.busy": "2022-09-10T02:39:56.107447Z",
     "iopub.status.idle": "2022-09-10T02:40:09.847439Z",
     "shell.execute_reply": "2022-09-10T02:40:09.845079Z",
     "shell.execute_reply.started": "2022-09-10T02:39:56.107744Z"
    }
   },
   "outputs": [],
   "source": [
    "#data flow from dataframe \n",
    "train_data = train_gen.flow_from_dataframe(\n",
    "    train_df,\n",
    "    x_col='Filepath',   \n",
    "    y_col='Label',\n",
    "    target_size=(120, 120),  #rescaling image \n",
    "    color_mode='rgb',\n",
    "    class_mode='binary',  #only two classes positive and negative\n",
    "    batch_size=32,\n",
    "    shuffle=True,\n",
    "    seed=42,\n",
    "    subset='training'\n",
    ")\n",
    "\n",
    "val_data = train_gen.flow_from_dataframe(\n",
    "    train_df,\n",
    "    x_col='Filepath',\n",
    "    y_col='Label',\n",
    "    target_size=(120, 120),\n",
    "    color_mode='rgb',\n",
    "    class_mode='binary',\n",
    "    batch_size=32,\n",
    "    shuffle=True,\n",
    "    seed=42,\n",
    "    subset='validation'\n",
    ")\n",
    "\n",
    "test_data = train_gen.flow_from_dataframe(\n",
    "    test_df,\n",
    "    x_col='Filepath',\n",
    "    y_col='Label',\n",
    "    target_size=(120, 120),\n",
    "    color_mode='rgb',\n",
    "    class_mode='binary',\n",
    "    batch_size=32,\n",
    "    shuffle=False,   #donot shuffle the test data to maintain a order in comparing test data to the labels at the end\n",
    "    seed=42\n",
    ")"
   ]
  },
  {
   "cell_type": "code",
   "execution_count": null,
   "metadata": {
    "execution": {
     "iopub.execute_input": "2022-09-09T20:03:01.147487Z",
     "iopub.status.busy": "2022-09-09T20:03:01.147081Z",
     "iopub.status.idle": "2022-09-09T20:03:01.153388Z",
     "shell.execute_reply": "2022-09-09T20:03:01.152138Z",
     "shell.execute_reply.started": "2022-09-09T20:03:01.147453Z"
    }
   },
   "outputs": [],
   "source": [
    "#train_data.next()[0] gives the image data\n",
    "#train_data.next()[1]  gives the label data"
   ]
  },
  {
   "cell_type": "markdown",
   "metadata": {},
   "source": [
    "# Training"
   ]
  },
  {
   "cell_type": "code",
   "execution_count": 12,
   "metadata": {
    "execution": {
     "iopub.execute_input": "2022-09-10T02:40:17.892132Z",
     "iopub.status.busy": "2022-09-10T02:40:17.891793Z",
     "iopub.status.idle": "2022-09-10T02:40:20.321809Z",
     "shell.execute_reply": "2022-09-10T02:40:20.321034Z",
     "shell.execute_reply.started": "2022-09-10T02:40:17.892100Z"
    }
   },
   "outputs": [],
   "source": [
    "#we have 2 layer CNN with max pooling in between them\n",
    "#these convolutional layers extracts the new features from them\n",
    "inputs = tf.keras.Input(shape=(120, 120, 3))\n",
    "#convolutional layers having 16 filters i.e depth is 16 each filter is of the size 3x3 having relu activation applied on them\n",
    "x = tf.keras.layers.Conv2D(filters=16, kernel_size=(3, 3), activation='relu')(inputs)\n",
    "#maxpool layer having pool size 2x2\n",
    "x = tf.keras.layers.MaxPool2D(pool_size=(2, 2))(x)\n",
    "#to extract high level features\n",
    "x = tf.keras.layers.Conv2D(filters=32, kernel_size=(3, 3), activation='relu')(x)\n",
    "x = tf.keras.layers.MaxPool2D(pool_size=(2, 2))(x)\n",
    "#flattening the layer using avg pooling to perform classification after that\n",
    "x = tf.keras.layers.GlobalAveragePooling2D()(x)\n",
    "outputs = tf.keras.layers.Dense(1, activation='sigmoid')(x)\n",
    "\n",
    "model = tf.keras.Model(inputs=inputs, outputs=outputs)\n",
    "\n",
    "model.compile(\n",
    "    optimizer='adam',   #using adam optimizer\n",
    "    loss='binary_crossentropy',\n",
    "    metrics=['accuracy']\n",
    ")\n",
    "\n",
    "print(model.summary())"
   ]
  },
  {
   "cell_type": "code",
   "execution_count": 13,
   "metadata": {
    "execution": {
     "iopub.execute_input": "2022-09-10T02:40:29.779701Z",
     "iopub.status.busy": "2022-09-10T02:40:29.779363Z",
     "iopub.status.idle": "2022-09-10T02:44:07.605647Z",
     "shell.execute_reply": "2022-09-10T02:44:07.604692Z",
     "shell.execute_reply.started": "2022-09-10T02:40:29.779668Z"
    }
   },
   "outputs": [],
   "source": [
    "#train the model\n",
    "history = model.fit(\n",
    "    train_data,\n",
    "    validation_data=val_data,\n",
    "    epochs=100,\n",
    "    callbacks=[\n",
    "        tf.keras.callbacks.EarlyStopping(\n",
    "            monitor='val_loss',\n",
    "            patience=3,\n",
    "            restore_best_weights=True   #restores the weights from best epochs\n",
    "        )\n",
    "    ]\n",
    ")"
   ]
  },
  {
   "cell_type": "code",
   "execution_count": 14,
   "metadata": {
    "execution": {
     "iopub.execute_input": "2022-09-10T02:46:28.077423Z",
     "iopub.status.busy": "2022-09-10T02:46:28.077073Z",
     "iopub.status.idle": "2022-09-10T02:46:29.206909Z",
     "shell.execute_reply": "2022-09-10T02:46:29.206077Z",
     "shell.execute_reply.started": "2022-09-10T02:46:28.077390Z"
    }
   },
   "outputs": [],
   "source": [
    "#plot of lossess\n",
    "fig = px.line(\n",
    "    history.history,\n",
    "    y=['loss', 'val_loss'],\n",
    "    labels={'index': \"Epoch\", 'value': \"Loss\"},\n",
    "    title=\"Training and Validation Loss Over Time\"\n",
    ")\n",
    "\n",
    "fig.show()"
   ]
  },
  {
   "cell_type": "markdown",
   "metadata": {},
   "source": [
    "# Results"
   ]
  },
  {
   "cell_type": "code",
   "execution_count": 15,
   "metadata": {
    "execution": {
     "iopub.execute_input": "2022-09-10T02:46:36.419712Z",
     "iopub.status.busy": "2022-09-10T02:46:36.419385Z",
     "iopub.status.idle": "2022-09-10T02:46:36.427449Z",
     "shell.execute_reply": "2022-09-10T02:46:36.426314Z",
     "shell.execute_reply.started": "2022-09-10T02:46:36.419681Z"
    }
   },
   "outputs": [],
   "source": [
    "#evaluate our model by confusion matrix\n",
    "def evaluate_model(model, test_data):\n",
    "    \n",
    "    results = model.evaluate(test_data, verbose=0)\n",
    "    loss = results[0]\n",
    "    acc = results[1]\n",
    "    \n",
    "    print(\"    Test Loss: {:.5f}\".format(loss))\n",
    "    print(\"Test Accuracy: {:.2f}%\".format(acc * 100))\n",
    "    #using confusion matrix \n",
    "    y_pred = np.squeeze((model.predict(test_data) >= 0.5).astype(np.int))\n",
    "    cm = confusion_matrix(test_data.labels, y_pred)\n",
    "    clr = classification_report(test_data.labels, y_pred, target_names=[\"NEGATIVE\", \"POSITIVE\"])\n",
    "    \n",
    "    plt.figure(figsize=(6, 6))\n",
    "    sns.heatmap(cm, annot=True, fmt='g', vmin=0, cmap='Blues', cbar=False)\n",
    "    plt.xticks(ticks=np.arange(2) + 0.5, labels=[\"NEGATIVE\", \"POSITIVE\"])\n",
    "    plt.yticks(ticks=np.arange(2) + 0.5, labels=[\"NEGATIVE\", \"POSITIVE\"])\n",
    "    plt.xlabel(\"Predicted\")\n",
    "    plt.ylabel(\"Actual\")\n",
    "    plt.title(\"Confusion Matrix\")\n",
    "    plt.show()\n",
    "    \n",
    "    print(\"Classification Report:\\n----------------------\\n\", clr)"
   ]
  },
  {
   "cell_type": "code",
   "execution_count": 16,
   "metadata": {
    "execution": {
     "iopub.execute_input": "2022-09-10T02:46:43.099806Z",
     "iopub.status.busy": "2022-09-10T02:46:43.099478Z",
     "iopub.status.idle": "2022-09-10T02:46:56.275570Z",
     "shell.execute_reply": "2022-09-10T02:46:56.274639Z",
     "shell.execute_reply.started": "2022-09-10T02:46:43.099776Z"
    }
   },
   "outputs": [],
   "source": [
    "evaluate_model(model, test_data) "
   ]
  }
 ],
 "metadata": {
  "kernelspec": {
   "display_name": "Python 3 (ipykernel)",
   "language": "python",
   "name": "python3"
  },
  "language_info": {
   "codemirror_mode": {
    "name": "ipython",
    "version": 3
   },
   "file_extension": ".py",
   "mimetype": "text/x-python",
   "name": "python",
   "nbconvert_exporter": "python",
   "pygments_lexer": "ipython3",
   "version": "3.9.12"
  }
 },
 "nbformat": 4,
 "nbformat_minor": 4
}
